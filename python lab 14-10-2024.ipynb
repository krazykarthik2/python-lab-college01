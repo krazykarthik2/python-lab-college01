{
 "cells": [
  {
   "cell_type": "code",
   "execution_count": 6,
   "id": "dad173ff-af44-4d1d-8d5f-d3288ba2e358",
   "metadata": {},
   "outputs": [
    {
     "name": "stdout",
     "output_type": "stream",
     "text": [
      "Writing new.txt\n"
     ]
    }
   ],
   "source": [
    "%%writefile new.txt\n",
    "Lorem ipsum dolor sit amet, consectetur adipiscing elit,\n",
    "sed do eiusmod tempor incididunt ut labo\n",
    "re et dolore magna aliqua. Ut enim ad minim ven\n",
    "\n",
    "iam, quis nostrud exercitation ullamco laboris nisi ut aliquip e\n",
    "x ea commodo consequat. Duis aute irure dolor in reprehenderit in \n",
    "voluptate velit esse cillum dolore eu fugiat nulla paria\n",
    "tur. Excepteur sint occaecat cupidatat non proident, sunt in culpa qu\n",
    "i officia deserunt mollit anim id est laborum."
   ]
  },
  {
   "cell_type": "code",
   "execution_count": 22,
   "id": "d3524d41-bbf4-4921-8a24-0cc819830a4a",
   "metadata": {},
   "outputs": [
    {
     "name": "stdout",
     "output_type": "stream",
     "text": [
      "Overwriting file_read_write.py\n"
     ]
    }
   ],
   "source": [
    "%%writefile file_read_write.py\n",
    "words=[]\n",
    "with open('new.txt','r') as file_read:\n",
    "    _lines = file_read.readlines()\n",
    "    _lower =map(lambda x:x.replace('\\n','').lower().split(' '),_lines)\n",
    "    for low in _lower:\n",
    "        words+=low\n",
    "with open('another.txt','w') as file_write:\n",
    "    file_write.write(\" \".join(sorted(words)))"
   ]
  },
  {
   "cell_type": "code",
   "execution_count": 23,
   "id": "27ed490c-b77a-4c3b-b4cf-391b4d055d1d",
   "metadata": {
    "scrolled": true
   },
   "outputs": [
    {
     "name": "stdout",
     "output_type": "stream",
     "text": [
      "['lorem', 'ipsum', 'dolor', 'sit', 'amet,', 'consectetur', 'adipiscing', 'elit,', 'sed', 'do', 'eiusmod', 'tempor', 'incididunt', 'ut', 'labo', 're', 'et', 'dolore', 'magna', 'aliqua.', 'ut', 'enim', 'ad', 'minim', 'ven', '', 'iam,', 'quis', 'nostrud', 'exercitation', 'ullamco', 'laboris', 'nisi', 'ut', 'aliquip', 'e', 'x', 'ea', 'commodo', 'consequat.', 'duis', 'aute', 'irure', 'dolor', 'in', 'reprehenderit', 'in', '', 'voluptate', 'velit', 'esse', 'cillum', 'dolore', 'eu', 'fugiat', 'nulla', 'paria', 'tur.', 'excepteur', 'sint', 'occaecat', 'cupidatat', 'non', 'proident,', 'sunt', 'in', 'culpa', 'qu', 'i', 'officia', 'deserunt', 'mollit', 'anim', 'id', 'est', 'laborum.']\n"
     ]
    }
   ],
   "source": [
    "! python file_read_write.py"
   ]
  },
  {
   "cell_type": "code",
   "execution_count": 30,
   "id": "25c51826-4980-461a-a62b-0cbdeafa83a1",
   "metadata": {},
   "outputs": [
    {
     "name": "stdout",
     "output_type": "stream",
     "text": [
      "Overwriting file_read_reverse.py\n"
     ]
    }
   ],
   "source": [
    "%%writefile file_read_reverse.py\n",
    "\n",
    "words=[]\n",
    "with open('new.txt','r') as file_read:\n",
    "    _lines = file_read.readlines()\n",
    "    for line in _lines[::-1]:\n",
    "        print(line)"
   ]
  },
  {
   "cell_type": "code",
   "execution_count": 28,
   "id": "8930a46f-152f-4abc-820e-63613cb1d380",
   "metadata": {},
   "outputs": [
    {
     "name": "stdout",
     "output_type": "stream",
     "text": [
      "i officia deserunt mollit anim id est laborum.\n",
      "\n",
      "tur. Excepteur sint occaecat cupidatat non proident, sunt in culpa qu\n",
      "\n",
      "voluptate velit esse cillum dolore eu fugiat nulla paria\n",
      "\n",
      "x ea commodo consequat. Duis aute irure dolor in reprehenderit in \n",
      "\n",
      "iam, quis nostrud exercitation ullamco laboris nisi ut aliquip e\n",
      "\n",
      "\n",
      "\n",
      "re et dolore magna aliqua. Ut enim ad minim ven\n",
      "\n",
      "sed do eiusmod tempor incididunt ut labo\n",
      "\n",
      "Lorem ipsum dolor sit amet, consectetur adipiscing elit,\n",
      "\n"
     ]
    }
   ],
   "source": [
    "! python file_read_reverse.py"
   ]
  },
  {
   "cell_type": "code",
   "execution_count": 44,
   "id": "5ac006ef-cb81-4f20-ad65-04cd81c9c6a1",
   "metadata": {},
   "outputs": [
    {
     "name": "stdout",
     "output_type": "stream",
     "text": [
      "Overwriting file_enum.py\n"
     ]
    }
   ],
   "source": [
    "%%writefile file_enum.py\n",
    "\n",
    "with open('new.txt','r') as file_read:\n",
    "    _lines = file_read.readlines()\n",
    "    print(\"lines:\",len(_lines))\n",
    "    _num_chars= sum([ len(line) for line in _lines])\n",
    "    \n",
    "    _splitwords =map(lambda x:x.replace('\\n','').split(' '),_lines)\n",
    "    words=[]\n",
    "    for _split_word in _splitwords:\n",
    "        words.extend(_split_word)\n",
    "    print(\"words:\",len(words))\n",
    "    print(\"chars:\",_num_chars)\n",
    "    "
   ]
  },
  {
   "cell_type": "code",
   "execution_count": 45,
   "id": "184686f6-e694-4644-86fb-4dd52c24d254",
   "metadata": {},
   "outputs": [
    {
     "name": "stdout",
     "output_type": "stream",
     "text": [
      "lines: 9\n",
      "words: 76\n",
      "chars: 453\n"
     ]
    }
   ],
   "source": [
    "! python file_enum.py"
   ]
  },
  {
   "cell_type": "code",
   "execution_count": 51,
   "id": "933042b4-d749-44ed-86d6-02e704456c99",
   "metadata": {},
   "outputs": [
    {
     "name": "stdout",
     "output_type": "stream",
     "text": [
      "A:\n",
      "[1, 2]\n",
      "[3, 4]\n",
      "B:\n",
      "[5, 6]\n",
      "[7, 8]\n",
      "Transpose of A:\n",
      "[1, 3]\n",
      "[2, 4]\n",
      "Sum of A and B:\n",
      "[6, 8]\n",
      "[10, 12]\n",
      "Product of A and B:\n",
      "[19, 22]\n",
      "[43, 50]\n"
     ]
    }
   ],
   "source": [
    "def transpose(matrix):\n",
    "    \"\"\"Return the transpose of the given matrix.\"\"\"\n",
    "    return [[matrix[j][i] for j in range(len(matrix))] for i in range(len(matrix[0]))]\n",
    "\n",
    "def multiply_matrices(A, B):\n",
    "    \"\"\"Multiply two matrices A and B.\"\"\"\n",
    "    # Get dimensions\n",
    "    rows_A = len(A)\n",
    "    cols_A = len(A[0])\n",
    "    rows_B = len(B)\n",
    "    cols_B = len(B[0])\n",
    "    \n",
    "    # Check if multiplication is possible\n",
    "    if cols_A != rows_B:\n",
    "        raise ValueError(\"Number of columns in A must be equal to number of rows in B\")\n",
    "    \n",
    "    # Initialize result matrix\n",
    "    result = [[0 for _ in range(cols_B)] for _ in range(rows_A)]\n",
    "    \n",
    "    # Perform multiplication\n",
    "    for i in range(rows_A):\n",
    "        for j in range(cols_B):\n",
    "            for k in range(cols_A):  # or range(rows_B)\n",
    "                result[i][j] += A[i][k] * B[k][j]\n",
    "    \n",
    "    return result\n",
    "def add_matrices(A, B):\n",
    "    \"\"\"Add two matrices A and B.\"\"\"\n",
    "    # Check if dimensions match\n",
    "    if len(A) != len(B) or len(A[0]) != len(B[0]):\n",
    "        raise ValueError(\"Matrices must have the same dimensions\")\n",
    "    \n",
    "    # Initialize result matrix\n",
    "    result = [[0 for _ in range(len(A[0]))] for _ in range(len(A))]\n",
    "    \n",
    "    # Perform addition\n",
    "    for i in range(len(A)):\n",
    "        for j in range(len(A[0])):\n",
    "            result[i][j] = A[i][j] + B[i][j]\n",
    "    \n",
    "    return result\n",
    "# Example usage\n",
    "A = [\n",
    "    [1, 2],\n",
    "    [3, 4]\n",
    "]\n",
    "\n",
    "B = [\n",
    "    [5, 6],\n",
    "    [7, 8]\n",
    "]\n",
    "print(\"A:\")\n",
    "for row in A:\n",
    "    print(row)\n",
    "\n",
    "print(\"B:\")\n",
    "for row in B:\n",
    "    print(row)\n",
    "\n",
    "# Transpose A\n",
    "A_T = transpose(A)\n",
    "print(\"Transpose of A:\")\n",
    "for row in A_T:\n",
    "    print(row)\n",
    "\n",
    "# Add A and B\n",
    "C = add_matrices(A, B)\n",
    "print(\"Sum of A and B:\")\n",
    "for row in C:\n",
    "    print(row)\n",
    "    \n",
    "# Multiply A and B\n",
    "C = multiply_matrices(A, B)\n",
    "print(\"Product of A and B:\")\n",
    "for row in C:\n",
    "    print(row)\n",
    "\n"
   ]
  },
  {
   "cell_type": "code",
   "execution_count": 52,
   "id": "5d425599-4968-483f-91b5-3d6643874db8",
   "metadata": {},
   "outputs": [
    {
     "name": "stdout",
     "output_type": "stream",
     "text": [
      "Circle:\n",
      "  Area: 78.53981633974483\n",
      "  Perimeter: 31.41592653589793\n",
      "Triangle:\n",
      "  Area: 12.0\n",
      "  Perimeter: 18\n",
      "Square:\n",
      "  Area: 16\n",
      "  Perimeter: 16\n",
      "Rectangle:\n",
      "  Area: 21\n",
      "  Perimeter: 20\n"
     ]
    }
   ],
   "source": [
    "from abc import ABC, abstractmethod\n",
    "import math\n",
    "\n",
    "class Shape(ABC):\n",
    "    @abstractmethod\n",
    "    def area(self):\n",
    "        pass\n",
    "\n",
    "    @abstractmethod\n",
    "    def perimeter(self):\n",
    "        pass\n",
    "\n",
    "class Circle(Shape):\n",
    "    def __init__(self, radius):\n",
    "        self.radius = radius\n",
    "\n",
    "    def area(self):\n",
    "        return math.pi * (self.radius ** 2)\n",
    "\n",
    "    def perimeter(self):\n",
    "        return 2 * math.pi * self.radius\n",
    "\n",
    "class Triangle(Shape):\n",
    "    def __init__(self, base, height, side1, side2, side3):\n",
    "        self.base = base\n",
    "        self.height = height\n",
    "        self.side1 = side1\n",
    "        self.side2 = side2\n",
    "        self.side3 = side3\n",
    "\n",
    "    def area(self):\n",
    "        return 0.5 * self.base * self.height\n",
    "\n",
    "    def perimeter(self):\n",
    "        return self.side1 + self.side2 + self.side3\n",
    "\n",
    "class Square(Shape):\n",
    "    def __init__(self, side_length):\n",
    "        self.side_length = side_length\n",
    "\n",
    "    def area(self):\n",
    "        return self.side_length ** 2\n",
    "\n",
    "    def perimeter(self):\n",
    "        return 4 * self.side_length\n",
    "\n",
    "class Rectangle(Shape):\n",
    "    def __init__(self, width, height):\n",
    "        self.width = width\n",
    "        self.height = height\n",
    "\n",
    "    def area(self):\n",
    "        return self.width * self.height\n",
    "\n",
    "    def perimeter(self):\n",
    "        return 2 * (self.width + self.height)\n",
    "\n",
    "circle = Circle(5)\n",
    "triangle = Triangle(6, 4, 5, 6, 7)\n",
    "square = Square(4)\n",
    "rectangle = Rectangle(3, 7)\n",
    "\n",
    "shapes = [circle, triangle, square, rectangle]\n",
    "\n",
    "for shape in shapes:\n",
    "    print(f\"{shape.__class__.__name__}:\")\n",
    "    print(f\"  Area: {shape.area()}\")\n",
    "    print(f\"  Perimeter: {shape.perimeter()}\")\n"
   ]
  },
  {
   "cell_type": "code",
   "execution_count": null,
   "id": "69c30f33-2f07-4cc2-ac87-d43d983a46c3",
   "metadata": {},
   "outputs": [],
   "source": []
  }
 ],
 "metadata": {
  "kernelspec": {
   "display_name": "Python 3 (ipykernel)",
   "language": "python",
   "name": "python3"
  },
  "language_info": {
   "codemirror_mode": {
    "name": "ipython",
    "version": 3
   },
   "file_extension": ".py",
   "mimetype": "text/x-python",
   "name": "python",
   "nbconvert_exporter": "python",
   "pygments_lexer": "ipython3",
   "version": "3.12.4"
  }
 },
 "nbformat": 4,
 "nbformat_minor": 5
}
