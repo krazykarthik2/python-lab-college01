{
  "metadata": {
    "kernelspec": {
      "name": "python",
      "display_name": "Python (Pyodide)",
      "language": "python"
    },
    "language_info": {
      "codemirror_mode": {
        "name": "python",
        "version": 3
      },
      "file_extension": ".py",
      "mimetype": "text/x-python",
      "name": "python",
      "nbconvert_exporter": "python",
      "pygments_lexer": "ipython3",
      "version": "3.8"
    }
  },
  "nbformat_minor": 4,
  "nbformat": 4,
  "cells": [
    {
      "cell_type": "code",
      "source": "a=100\nb=-100\nc=1*20\nprint(a)\nprint(b)\nprint(c)",
      "metadata": {
        "trusted": true
      },
      "outputs": [
        {
          "name": "stdout",
          "text": "100\n-100\n20\n",
          "output_type": "stream"
        }
      ],
      "execution_count": 1
    },
    {
      "cell_type": "code",
      "source": "a=\"101\"\nb=int(a)\nc=int(122.4)\nprint(b)\nprint(c)",
      "metadata": {
        "trusted": true
      },
      "outputs": [
        {
          "name": "stdout",
          "text": "101\n122\n",
          "output_type": "stream"
        }
      ],
      "execution_count": 2
    },
    {
      "cell_type": "code",
      "source": "a=101.2\nb=-101.4\nc=11.23\nd=2.33\nprint(a,b,c,d,sep='\\n')",
      "metadata": {
        "trusted": true
      },
      "outputs": [
        {
          "name": "stdout",
          "text": "101.2\n-101.4\n11.23\n2.33\n",
          "output_type": "stream"
        }
      ],
      "execution_count": 4
    },
    {
      "cell_type": "code",
      "source": "str='computer science'\nprint('str-',str)\nprint('str[0]-',str[0])\nprint('str[1:3]-',str[1:3])\nprint('str[3:]=',str[3:])\nprint('str*2-',str*2)\nprint('str+\\'yes\\'-',str+\"yes\")",
      "metadata": {
        "trusted": true
      },
      "outputs": [
        {
          "name": "stdout",
          "text": "str- computer science\nstr[0]- c\nstr[1:3]- om\nstr[3:]= puter science\nstr*2- computer sciencecomputer science\nstr+'yes'- computer scienceyes\n",
          "output_type": "stream"
        }
      ],
      "execution_count": 6
    },
    {
      "cell_type": "code",
      "source": "str=\"comp sci\"\nboo = str.isupper()\nprint(boo)",
      "metadata": {
        "trusted": true
      },
      "outputs": [
        {
          "name": "stdout",
          "text": "False\n",
          "output_type": "stream"
        }
      ],
      "execution_count": 7
    },
    {
      "cell_type": "code",
      "source": "num_int= 12\nnum_float = 10.23\nnum_new = num_int + num_float\nprint(\"datatype of num_int:\",type(num_int))\nprint(\"datatype of num_float:\",type(num_float))\nprint(\"value of num_new:\",num_new)\nprint('datatype of num_new:',type(num_new))\n",
      "metadata": {
        "trusted": true
      },
      "outputs": [
        {
          "name": "stdout",
          "text": "datatype of num_int: <class 'int'>\ndatatype of num_float: <class 'float'>\nvalue of num_new: 22.23\ndatatype of num_new: <class 'float'>\n",
          "output_type": "stream"
        }
      ],
      "execution_count": 8
    },
    {
      "cell_type": "code",
      "source": "num_int = 12\nnum_str= \"45\"\nprint(\"datatype of num_int\",type(num_int))\nprint(\"datatype of num_str\",type(num_str))\nnum_str= int(num_str)\nprint(\"datatype of num_str after type casting:\",type(num_str))\nnum_sum=num_str+num_int\nprint(\"datatype of sum:\",type(num_sum))",
      "metadata": {
        "trusted": true
      },
      "outputs": [
        {
          "name": "stdout",
          "text": "datatype of num_int <class 'int'>\ndatatype of num_str <class 'str'>\ndatatype of num_str after type casting: <class 'int'>\ndatatype of sum: <class 'int'>\n",
          "output_type": "stream"
        }
      ],
      "execution_count": 9
    },
    {
      "cell_type": "code",
      "source": "",
      "metadata": {
        "trusted": true
      },
      "outputs": [],
      "execution_count": null
    }
  ]
}