{
 "cells": [
  {
   "cell_type": "markdown",
   "id": "fe8ca65f-05f6-41b8-becc-dcd545ef1f31",
   "metadata": {},
   "source": [
    "# Add and multiplying Complex Numbers"
   ]
  },
  {
   "cell_type": "code",
   "execution_count": 1,
   "id": "71f4a553-90ef-4bf0-aa70-39135e3cbdbd",
   "metadata": {},
   "outputs": [
    {
     "name": "stdout",
     "output_type": "stream",
     "text": [
      "considering complex numbers: (10+3j) (4+5j)\n",
      "(10+3j) + (4+5j) = (14+8j)\n",
      "(10+3j) * (4+5j) = (25+62j)\n"
     ]
    }
   ],
   "source": [
    "a=10+3j\n",
    "b=4+5j\n",
    "print('considering complex numbers:',a,b)\n",
    "print(a,'+',b,'=',a+b)\n",
    "print(a,'*',b,'=',a*b)"
   ]
  },
  {
   "cell_type": "markdown",
   "id": "2b36ae67-2c04-4bf7-a376-bc9b0793272f",
   "metadata": {},
   "source": [
    "# Swapping 2 variables in python"
   ]
  },
  {
   "cell_type": "code",
   "execution_count": 3,
   "id": "ad96adc7-0981-4289-ae86-f4ebad6317c3",
   "metadata": {},
   "outputs": [
    {
     "name": "stdin",
     "output_type": "stream",
     "text": [
      "Enter 2 variables: 40\n",
      " 50\n"
     ]
    },
    {
     "name": "stdout",
     "output_type": "stream",
     "text": [
      "before swapping:\n",
      "a= 40\n",
      "b= 50\n",
      "after swapping:\n",
      "a= 50\n",
      "b= 40\n"
     ]
    }
   ],
   "source": [
    "a,b =int(input(\"Enter 2 variables:\")),int(input(''))\n",
    "print('before swapping:')\n",
    "print('a=',a)\n",
    "print('b=',b)\n",
    "a,b=b,a\n",
    "print('after swapping:')\n",
    "print('a=',a)\n",
    "print('b=',b)\n"
   ]
  },
  {
   "cell_type": "code",
   "execution_count": null,
   "id": "ecfc81c0-306f-484c-b0c1-afb186a70111",
   "metadata": {},
   "outputs": [],
   "source": []
  }
 ],
 "metadata": {
  "kernelspec": {
   "display_name": "Python 3 (ipykernel)",
   "language": "python",
   "name": "python3"
  },
  "language_info": {
   "codemirror_mode": {
    "name": "ipython",
    "version": 3
   },
   "file_extension": ".py",
   "mimetype": "text/x-python",
   "name": "python",
   "nbconvert_exporter": "python",
   "pygments_lexer": "ipython3",
   "version": "3.12.4"
  }
 },
 "nbformat": 4,
 "nbformat_minor": 5
}
